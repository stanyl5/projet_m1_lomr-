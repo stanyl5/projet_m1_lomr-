{
 "cells": [
  {
   "cell_type": "code",
   "execution_count": 1,
   "id": "dcf02280",
   "metadata": {},
   "outputs": [],
   "source": [
    "import time"
   ]
  },
  {
   "cell_type": "code",
   "execution_count": 2,
   "id": "c58283cc",
   "metadata": {},
   "outputs": [],
   "source": [
    "%load_ext Cython"
   ]
  },
  {
   "cell_type": "code",
   "execution_count": 5,
   "id": "e7aa68a7",
   "metadata": {},
   "outputs": [],
   "source": [
    "%%cython\n",
    "def my_function_c():\n",
    "    cdef int a = 0\n",
    "    for i in range(100):\n",
    "        for j in range(100):\n",
    "            for k in range(1000):\n",
    "                a = i*j+k\n",
    "    return a"
   ]
  },
  {
   "cell_type": "code",
   "execution_count": 6,
   "id": "6a122f85",
   "metadata": {},
   "outputs": [
    {
     "name": "stdout",
     "output_type": "stream",
     "text": [
      "Temps écoulé Segmentation :  0.3557095527648926\n",
      "valeur= 10800\n"
     ]
    }
   ],
   "source": [
    "start_time = time.time()\n",
    "result = my_function_c()\n",
    "end_time = time.time()\n",
    "elapsed_time = end_time - start_time\n",
    "print(\"Temps écoulé Segmentation : \", elapsed_time)\n",
    "print(\"valeur=\", result)"
   ]
  },
  {
   "cell_type": "code",
   "execution_count": 27,
   "id": "64fb1ab9",
   "metadata": {},
   "outputs": [],
   "source": [
    "def my_function():\n",
    "    for i in range(100):\n",
    "        for j in range(1000):\n",
    "            for k in range(1000):\n",
    "                a = i*j+k\n",
    "    return a"
   ]
  },
  {
   "cell_type": "code",
   "execution_count": 28,
   "id": "18e75136",
   "metadata": {},
   "outputs": [
    {
     "name": "stdout",
     "output_type": "stream",
     "text": [
      "Temps écoulé Segmentation :  5.4768288135528564\n",
      "valeur= 99900\n"
     ]
    }
   ],
   "source": [
    "start_time = time.time()\n",
    "result = my_function()\n",
    "end_time = time.time()\n",
    "elapsed_time = end_time - start_time\n",
    "print(\"Temps écoulé Segmentation : \", elapsed_time)\n",
    "print(\"valeur=\",result)"
   ]
  },
  {
   "cell_type": "code",
   "execution_count": null,
   "id": "c357d6f2",
   "metadata": {},
   "outputs": [],
   "source": []
  }
 ],
 "metadata": {
  "kernelspec": {
   "display_name": "Python 3 (ipykernel)",
   "language": "python",
   "name": "python3"
  },
  "language_info": {
   "codemirror_mode": {
    "name": "ipython",
    "version": 3
   },
   "file_extension": ".py",
   "mimetype": "text/x-python",
   "name": "python",
   "nbconvert_exporter": "python",
   "pygments_lexer": "ipython3",
   "version": "3.9.12"
  }
 },
 "nbformat": 4,
 "nbformat_minor": 5
}
